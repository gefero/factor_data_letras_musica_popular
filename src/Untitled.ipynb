{
 "cells": [
  {
   "cell_type": "code",
   "execution_count": 99,
   "metadata": {},
   "outputs": [],
   "source": [
    "import pandas as pd\n",
    "import numpy as np\n",
    "from sklearn.model_selection import train_test_split"
   ]
  },
  {
   "cell_type": "code",
   "execution_count": 100,
   "metadata": {},
   "outputs": [],
   "source": [
    "data = pd.read_csv('../data/tango_rock.csv')\n",
    "data['texto'] = data['titulo'] + ' ' + data['letra']"
   ]
  },
  {
   "cell_type": "code",
   "execution_count": 101,
   "metadata": {},
   "outputs": [],
   "source": [
    "ft = data[['texto','genero']]"
   ]
  },
  {
   "cell_type": "code",
   "execution_count": 102,
   "metadata": {},
   "outputs": [],
   "source": [
    "# Lets do some cleaning of this text\n",
    "def clean_it(text,normalize=True):\n",
    "    # Replacing possible issues with data. We can add or reduce the replacemtent in this chain\n",
    "    s = str(text).replace(',',' ').replace('\"','').replace('\\'','').replace('.',' . ').replace('(',' ( ').\\\n",
    "            replace(')',' ) ').replace('!',' ! ').replace('?',' ? ').replace(':',' ').replace(';',' ').\\\n",
    "            replace('/','').replace('|','').replace('¿',' ¿ ').replace('¡',' ¡ ').lower()\n",
    "    \n",
    "    # normalizing / encoding the text\n",
    "    if normalize:\n",
    "        s = s.normalize('NFKD').str.encode('ascii','ignore').str.decode('utf-8')\n",
    "    \n",
    "    return s\n",
    "\n",
    "# Now lets define a small function where we can use above cleaning on datasets\n",
    "def clean_df(data, cleanit= False, shuffleit=False, encodeit=False, label_prefix='__label__'):\n",
    "    # Defining the new data\n",
    "    df = data[['texto']].copy(deep=True)\n",
    "    df['genero'] = label_prefix + data['genero'].astype(str) + ' '\n",
    "    \n",
    "    # cleaning it\n",
    "    if cleanit:\n",
    "        #df['name'] = df['name'].apply(lambda x: clean_it(x,encodeit))\n",
    "        df['texto'] = df['texto'].apply(lambda x: clean_it(x,encodeit))\n",
    "    \n",
    "    # shuffling it\n",
    "    if shuffleit:\n",
    "        df.sample(frac=1).reset_index(drop=True)\n",
    "            \n",
    "    return df"
   ]
  },
  {
   "cell_type": "code",
   "execution_count": 103,
   "metadata": {},
   "outputs": [
    {
     "name": "stdout",
     "output_type": "stream",
     "text": [
      "CPU times: user 333 ms, sys: 23.9 ms, total: 356 ms\n",
      "Wall time: 355 ms\n"
     ]
    }
   ],
   "source": [
    "%%time\n",
    "# Transform the datasets using the above clean functions\n",
    "ft_cleaned = clean_df(ft, True, True)\n",
    "#ft_test_cleaned = clean_df(df_test, True, True)"
   ]
  },
  {
   "cell_type": "code",
   "execution_count": 104,
   "metadata": {},
   "outputs": [],
   "source": [
    "def get_train_test_indexes(X=ft_cleaned['texto'],\n",
    "                           y=ft_cleaned['genero'],\n",
    "                           size = 0.33,\n",
    "                           random_state=199,\n",
    "                         strat=ft_cleaned['genero']):\n",
    "    lista = train_test_split(X, y, test_size=size,\n",
    "                                       random_state=random_state, stratify=strat)\n",
    "    \n",
    "    train_index = lista[0].index\n",
    "    test_index = lista[1].index\n",
    "    \n",
    "    #return(pd.Series(train_index == lista[2].index))\n",
    "    #return(pd.Series(test_index == lista[3].index))\n",
    "    \n",
    "    return(train_index.values, test_index.values)"
   ]
  },
  {
   "cell_type": "code",
   "execution_count": 105,
   "metadata": {},
   "outputs": [],
   "source": [
    "train_ft = ft_cleaned.iloc[get_train_test_indexes()[0],:]\n",
    "test_ft = ft_cleaned.iloc[get_train_test_indexes()[1],:]"
   ]
  },
  {
   "cell_type": "code",
   "execution_count": 106,
   "metadata": {},
   "outputs": [
    {
     "data": {
      "text/plain": [
       "__label__rock      13583\n",
       "__label__tango      3841\n",
       "Name: genero, dtype: int64"
      ]
     },
     "execution_count": 106,
     "metadata": {},
     "output_type": "execute_result"
    }
   ],
   "source": [
    "train_ft['genero'].value_counts()"
   ]
  },
  {
   "cell_type": "code",
   "execution_count": 107,
   "metadata": {},
   "outputs": [
    {
     "data": {
      "text/plain": [
       "__label__rock      6691\n",
       "__label__tango     1892\n",
       "Name: genero, dtype: int64"
      ]
     },
     "execution_count": 107,
     "metadata": {},
     "output_type": "execute_result"
    }
   ],
   "source": [
    "test_ft['genero'].value_counts()"
   ]
  },
  {
   "cell_type": "code",
   "execution_count": 108,
   "metadata": {},
   "outputs": [
    {
     "data": {
      "text/html": [
       "<div>\n",
       "<style scoped>\n",
       "    .dataframe tbody tr th:only-of-type {\n",
       "        vertical-align: middle;\n",
       "    }\n",
       "\n",
       "    .dataframe tbody tr th {\n",
       "        vertical-align: top;\n",
       "    }\n",
       "\n",
       "    .dataframe thead th {\n",
       "        text-align: right;\n",
       "    }\n",
       "</style>\n",
       "<table border=\"1\" class=\"dataframe\">\n",
       "  <thead>\n",
       "    <tr style=\"text-align: right;\">\n",
       "      <th></th>\n",
       "      <th>texto</th>\n",
       "      <th>genero</th>\n",
       "    </tr>\n",
       "  </thead>\n",
       "  <tbody>\n",
       "    <tr>\n",
       "      <th>19337</th>\n",
       "      <td>algo contigo hace falta que te diga  que me mu...</td>\n",
       "      <td>__label__rock</td>\n",
       "    </tr>\n",
       "    <tr>\n",
       "      <th>10840</th>\n",
       "      <td>espejismo tus ojos  nena  se parecen a un espe...</td>\n",
       "      <td>__label__rock</td>\n",
       "    </tr>\n",
       "    <tr>\n",
       "      <th>3780</th>\n",
       "      <td>no me dejan salir estoy verde  no me dejan sal...</td>\n",
       "      <td>__label__rock</td>\n",
       "    </tr>\n",
       "    <tr>\n",
       "      <th>2952</th>\n",
       "      <td>la reacción necesito estar un poco mas adentro...</td>\n",
       "      <td>__label__rock</td>\n",
       "    </tr>\n",
       "    <tr>\n",
       "      <th>12428</th>\n",
       "      <td>tan sólo un instante pensaba en los buenos mom...</td>\n",
       "      <td>__label__rock</td>\n",
       "    </tr>\n",
       "    <tr>\n",
       "      <th>...</th>\n",
       "      <td>...</td>\n",
       "      <td>...</td>\n",
       "    </tr>\n",
       "    <tr>\n",
       "      <th>7638</th>\n",
       "      <td>ahí voy de nuevo ahi voy de nuevo de nuevo sal...</td>\n",
       "      <td>__label__rock</td>\n",
       "    </tr>\n",
       "    <tr>\n",
       "      <th>22754</th>\n",
       "      <td>humo ronda gris  fantasma de humo que me obsed...</td>\n",
       "      <td>__label__tango</td>\n",
       "    </tr>\n",
       "    <tr>\n",
       "      <th>18246</th>\n",
       "      <td>sobredosis de tv estoy desesperado    soy tan ...</td>\n",
       "      <td>__label__rock</td>\n",
       "    </tr>\n",
       "    <tr>\n",
       "      <th>21237</th>\n",
       "      <td>casamiento hoy se realiza la cosa  y ya se ha ...</td>\n",
       "      <td>__label__tango</td>\n",
       "    </tr>\n",
       "    <tr>\n",
       "      <th>25128</th>\n",
       "      <td>sonsa tengo un amor que me enloquece  y es de ...</td>\n",
       "      <td>__label__tango</td>\n",
       "    </tr>\n",
       "  </tbody>\n",
       "</table>\n",
       "<p>17424 rows × 2 columns</p>\n",
       "</div>"
      ],
      "text/plain": [
       "                                                   texto           genero\n",
       "19337  algo contigo hace falta que te diga  que me mu...   __label__rock \n",
       "10840  espejismo tus ojos  nena  se parecen a un espe...   __label__rock \n",
       "3780   no me dejan salir estoy verde  no me dejan sal...   __label__rock \n",
       "2952   la reacción necesito estar un poco mas adentro...   __label__rock \n",
       "12428  tan sólo un instante pensaba en los buenos mom...   __label__rock \n",
       "...                                                  ...              ...\n",
       "7638   ahí voy de nuevo ahi voy de nuevo de nuevo sal...   __label__rock \n",
       "22754  humo ronda gris  fantasma de humo que me obsed...  __label__tango \n",
       "18246  sobredosis de tv estoy desesperado    soy tan ...   __label__rock \n",
       "21237  casamiento hoy se realiza la cosa  y ya se ha ...  __label__tango \n",
       "25128  sonsa tengo un amor que me enloquece  y es de ...  __label__tango \n",
       "\n",
       "[17424 rows x 2 columns]"
      ]
     },
     "execution_count": 108,
     "metadata": {},
     "output_type": "execute_result"
    }
   ],
   "source": [
    "train_ft"
   ]
  },
  {
   "cell_type": "code",
   "execution_count": 118,
   "metadata": {},
   "outputs": [],
   "source": [
    "# Write files to disk as fastText classifier API reads files from disk.\n",
    "train_file = '../data/' + 'letras_train.csv'\n",
    "train_ft.to_csv(train_file, header=None, index=False, columns=['genero', 'texto'])\n",
    "\n",
    "test_file = '../data/' + '/letras_test.csv'\n",
    "test_ft.to_csv(test_file, header=None, index=False, columns=['genero', 'texto'])"
   ]
  },
  {
   "cell_type": "code",
   "execution_count": null,
   "metadata": {},
   "outputs": [],
   "source": [
    "%%time\n",
    "## Using fastText for feature extraction and training\n",
    "from fasttext import train_supervised \n",
    "\"\"\"fastText expects and training file (csv), a model name as input arguments.\n",
    "label_prefix refers to the prefix before label string in the dataset.\n",
    "default is __label__. In our dataset, it is __class__. \n",
    "There are several other parameters which can be seen in: \n",
    "https://pypi.org/project/fasttext/\n",
    "\"\"\"\n",
    "model = train_supervised(input='../data/letras_train.csv',  lr=0.001, epoch=200, wordNgrams=5, \n",
    "                         dim=300, thread=4, verbose=2)"
   ]
  },
  {
   "cell_type": "code",
   "execution_count": 124,
   "metadata": {},
   "outputs": [
    {
     "name": "stdout",
     "output_type": "stream",
     "text": [
      "Test Samples: 8583 Precision@1 : 98.6485 Recall@1 : 98.6485\n",
      "Test Samples: 8583 Precision@2 : 50.0000 Recall@2 : 100.0000\n",
      "Test Samples: 8583 Precision@3 : 50.0000 Recall@3 : 100.0000\n",
      "Test Samples: 8583 Precision@4 : 50.0000 Recall@4 : 100.0000\n",
      "Test Samples: 8583 Precision@5 : 50.0000 Recall@5 : 100.0000\n"
     ]
    }
   ],
   "source": [
    "for k in range(1,6):\n",
    "    results = model.test(test_file,k=k)\n",
    "    print(f\"Test Samples: {results[0]} Precision@{k} : {results[1]*100:2.4f} Recall@{k} : {results[2]*100:2.4f}\")"
   ]
  },
  {
   "cell_type": "code",
   "execution_count": 125,
   "metadata": {},
   "outputs": [
    {
     "data": {
      "text/plain": [
       "(8583, 0.9864849120354189, 0.9864849120354189)"
      ]
     },
     "execution_count": 125,
     "metadata": {},
     "output_type": "execute_result"
    }
   ],
   "source": [
    "model.test(test_file)"
   ]
  },
  {
   "cell_type": "code",
   "execution_count": null,
   "metadata": {},
   "outputs": [],
   "source": []
  }
 ],
 "metadata": {
  "kernelspec": {
   "display_name": "Python 3",
   "language": "python",
   "name": "python3"
  },
  "language_info": {
   "codemirror_mode": {
    "name": "ipython",
    "version": 3
   },
   "file_extension": ".py",
   "mimetype": "text/x-python",
   "name": "python",
   "nbconvert_exporter": "python",
   "pygments_lexer": "ipython3",
   "version": "3.6.10"
  }
 },
 "nbformat": 4,
 "nbformat_minor": 4
}
